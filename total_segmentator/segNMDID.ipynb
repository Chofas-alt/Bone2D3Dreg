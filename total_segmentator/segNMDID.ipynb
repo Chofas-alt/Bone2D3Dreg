{
 "cells": [
  {
   "cell_type": "markdown",
   "id": "43d14daf",
   "metadata": {},
   "source": [
    "Script to convert the .nii images from NMDID to MASKS. \n",
    "Take into account that multilabel from totalsegmentator will give a folder with different masks in NIFTI format.\n",
    "To only extract tibia/femur/etc. View Utils/SaveSegmentationTibia.py"
   ]
  },
  {
   "cell_type": "code",
   "execution_count": 1,
   "id": "ff6a66a2",
   "metadata": {},
   "outputs": [],
   "source": [
    "import os\n",
    "import tarfile\n",
    "import shutil\n",
    "import pydicom\n",
    "import matplotlib.pyplot as plt\n",
    "import numpy as np\n",
    "import nibabel as nib\n",
    "import numpy as np\n",
    "import time\n",
    "\n",
    "\n",
    "from ipywidgets import interact\n",
    "from IPython.display import display\n",
    "\n",
    "from totalsegmentator.python_api import totalsegmentator"
   ]
  },
  {
   "cell_type": "code",
   "execution_count": null,
   "id": "d58a80c8",
   "metadata": {},
   "outputs": [
    {
     "name": "stdout",
     "output_type": "stream",
     "text": [
      "🧠 DICOMs válidos encontrados: 361\n"
     ]
    }
   ],
   "source": [
    "licencia = 'aca_NO69LYNYUJAMI2' # This license number works, however, replace with your actual license\n",
    "bone_path = 'BONE_LWR_EXT_3X3' # Path where the DICOM files are located\n",
    "\n",
    "dicom_files = []\n",
    "\n",
    "for root, _, files in os.walk(bone_path):\n",
    "    for file in files:                   # looks into all the files in the directory\n",
    "        path = os.path.join(root, file)\n",
    "        try:\n",
    "            ds = pydicom.dcmread(path)\n",
    "            if 'PixelData' in ds:\n",
    "                dicom_files.append(ds)\n",
    "        except:\n",
    "            continue\n",
    "\n",
    "print(f\"🧠 DICOMs válidos encontrados: {len(dicom_files)}\")"
   ]
  },
  {
   "cell_type": "markdown",
   "id": "771f3a13",
   "metadata": {},
   "source": [
    "PATH CONFIG\n"
   ]
  },
  {
   "cell_type": "code",
   "execution_count": 5,
   "id": "16bd1dca",
   "metadata": {},
   "outputs": [],
   "source": [
    "input_dir = '/usagers4/u139017/Documents/nii_nmdid_filesTHIN'\n",
    "output_base = '/usagers4/u139017/Proyecto/total_segmentator/Prueba2TOTSEGTHIN'"
   ]
  },
  {
   "cell_type": "markdown",
   "id": "2ac5acd6",
   "metadata": {},
   "source": [
    "Creation of masks with same id number. To visualize the results we used 3DSLicer"
   ]
  },
  {
   "cell_type": "code",
   "execution_count": 6,
   "id": "ce3d3114",
   "metadata": {},
   "outputs": [
    {
     "name": "stdout",
     "output_type": "stream",
     "text": [
      "1 /usagers4/u139017/Proyecto/total_segmentator/Prueba2TOTSEGTHIN/Mask100308.nii\n",
      "\n",
      "If you use this tool please cite: https://pubs.rsna.org/doi/10.1148/ryai.230024\n",
      "\n",
      "Resampling...\n",
      "  Resampled in 14.60s\n",
      "Predicting...\n"
     ]
    },
    {
     "name": "stderr",
     "output_type": "stream",
     "text": [
      "100%|██████████| 112/112 [00:02<00:00, 40.42it/s]\n"
     ]
    },
    {
     "name": "stdout",
     "output_type": "stream",
     "text": [
      "  Predicted in 8.11s\n",
      "Removing small blobs...\n"
     ]
    },
    {
     "name": "stderr",
     "output_type": "stream",
     "text": [
      "100%|██████████| 11/11 [00:04<00:00,  2.63it/s]\n"
     ]
    },
    {
     "name": "stdout",
     "output_type": "stream",
     "text": [
      "  Removed in 4.22s\n",
      "Resampling...\n",
      "Saving segmentations...\n",
      "  Saved in 0.47s\n",
      "2 /usagers4/u139017/Proyecto/total_segmentator/Prueba2TOTSEGTHIN/Mask100324.nii\n",
      "\n",
      "If you use this tool please cite: https://pubs.rsna.org/doi/10.1148/ryai.230024\n",
      "\n",
      "Resampling...\n",
      "  Resampled in 17.24s\n",
      "Predicting...\n"
     ]
    },
    {
     "name": "stderr",
     "output_type": "stream",
     "text": [
      "100%|██████████| 128/128 [00:03<00:00, 40.01it/s]\n"
     ]
    },
    {
     "name": "stdout",
     "output_type": "stream",
     "text": [
      "  Predicted in 9.18s\n",
      "Removing small blobs...\n"
     ]
    },
    {
     "name": "stderr",
     "output_type": "stream",
     "text": [
      "100%|██████████| 11/11 [00:06<00:00,  1.59it/s]\n"
     ]
    },
    {
     "name": "stdout",
     "output_type": "stream",
     "text": [
      "  Removed in 6.95s\n",
      "Resampling...\n",
      "Saving segmentations...\n",
      "  Saved in 0.53s\n",
      "3 /usagers4/u139017/Proyecto/total_segmentator/Prueba2TOTSEGTHIN/Mask100335.nii\n",
      "\n",
      "If you use this tool please cite: https://pubs.rsna.org/doi/10.1148/ryai.230024\n",
      "\n",
      "Resampling...\n",
      "  Resampled in 21.68s\n",
      "Predicting...\n"
     ]
    },
    {
     "name": "stderr",
     "output_type": "stream",
     "text": [
      "100%|██████████| 225/225 [00:05<00:00, 39.62it/s]\n"
     ]
    },
    {
     "name": "stdout",
     "output_type": "stream",
     "text": [
      "  Predicted in 14.37s\n",
      "Removing small blobs...\n"
     ]
    },
    {
     "name": "stderr",
     "output_type": "stream",
     "text": [
      "100%|██████████| 11/11 [00:10<00:00,  1.06it/s]\n"
     ]
    },
    {
     "name": "stdout",
     "output_type": "stream",
     "text": [
      "  Removed in 10.43s\n",
      "Resampling...\n",
      "Saving segmentations...\n",
      "  Saved in 0.64s\n",
      "4 /usagers4/u139017/Proyecto/total_segmentator/Prueba2TOTSEGTHIN/Mask100749.nii\n",
      "\n",
      "If you use this tool please cite: https://pubs.rsna.org/doi/10.1148/ryai.230024\n",
      "\n",
      "Resampling...\n",
      "  Resampled in 26.95s\n",
      "Predicting...\n"
     ]
    },
    {
     "name": "stderr",
     "output_type": "stream",
     "text": [
      "100%|██████████| 360/360 [00:09<00:00, 39.38it/s]\n"
     ]
    },
    {
     "name": "stdout",
     "output_type": "stream",
     "text": [
      "  Predicted in 20.16s\n",
      "Removing small blobs...\n"
     ]
    },
    {
     "name": "stderr",
     "output_type": "stream",
     "text": [
      "100%|██████████| 11/11 [00:14<00:00,  1.36s/it]\n"
     ]
    },
    {
     "name": "stdout",
     "output_type": "stream",
     "text": [
      "  Removed in 15.06s\n",
      "Resampling...\n",
      "Saving segmentations...\n",
      "  Saved in 0.74s\n",
      "5 /usagers4/u139017/Proyecto/total_segmentator/Prueba2TOTSEGTHIN/Mask101607.nii\n",
      "\n",
      "If you use this tool please cite: https://pubs.rsna.org/doi/10.1148/ryai.230024\n",
      "\n",
      "Resampling...\n",
      "  Resampled in 19.40s\n",
      "Predicting...\n"
     ]
    },
    {
     "name": "stderr",
     "output_type": "stream",
     "text": [
      "100%|██████████| 200/200 [00:05<00:00, 39.84it/s]\n"
     ]
    },
    {
     "name": "stdout",
     "output_type": "stream",
     "text": [
      "  Predicted in 12.78s\n",
      "Removing small blobs...\n"
     ]
    },
    {
     "name": "stderr",
     "output_type": "stream",
     "text": [
      "100%|██████████| 11/11 [00:08<00:00,  1.30it/s]\n"
     ]
    },
    {
     "name": "stdout",
     "output_type": "stream",
     "text": [
      "  Removed in 8.51s\n",
      "Resampling...\n",
      "Saving segmentations...\n",
      "  Saved in 0.60s\n",
      "6 /usagers4/u139017/Proyecto/total_segmentator/Prueba2TOTSEGTHIN/Mask101913.nii\n",
      "\n",
      "If you use this tool please cite: https://pubs.rsna.org/doi/10.1148/ryai.230024\n",
      "\n",
      "Resampling...\n",
      "  Resampled in 14.42s\n",
      "Predicting...\n"
     ]
    },
    {
     "name": "stderr",
     "output_type": "stream",
     "text": [
      "100%|██████████| 63/63 [00:01<00:00, 41.59it/s]\n"
     ]
    },
    {
     "name": "stdout",
     "output_type": "stream",
     "text": [
      "  Predicted in 6.74s\n",
      "Removing small blobs...\n"
     ]
    },
    {
     "name": "stderr",
     "output_type": "stream",
     "text": [
      "100%|██████████| 11/11 [00:04<00:00,  2.75it/s]\n"
     ]
    },
    {
     "name": "stdout",
     "output_type": "stream",
     "text": [
      "  Removed in 4.04s\n",
      "Resampling...\n",
      "Saving segmentations...\n",
      "  Saved in 0.47s\n",
      "7 /usagers4/u139017/Proyecto/total_segmentator/Prueba2TOTSEGTHIN/Mask102480.nii\n",
      "\n",
      "If you use this tool please cite: https://pubs.rsna.org/doi/10.1148/ryai.230024\n",
      "\n",
      "Resampling...\n",
      "  Resampled in 12.28s\n",
      "Predicting...\n"
     ]
    },
    {
     "name": "stderr",
     "output_type": "stream",
     "text": [
      "100%|██████████| 63/63 [00:01<00:00, 41.13it/s]\n"
     ]
    },
    {
     "name": "stdout",
     "output_type": "stream",
     "text": [
      "  Predicted in 5.70s\n",
      "Removing small blobs...\n"
     ]
    },
    {
     "name": "stderr",
     "output_type": "stream",
     "text": [
      "100%|██████████| 11/11 [00:02<00:00,  5.03it/s]\n"
     ]
    },
    {
     "name": "stdout",
     "output_type": "stream",
     "text": [
      "  Removed in 2.21s\n",
      "Resampling...\n",
      "Saving segmentations...\n",
      "  Saved in 0.45s\n",
      "8 /usagers4/u139017/Proyecto/total_segmentator/Prueba2TOTSEGTHIN/Mask103497.nii\n",
      "\n",
      "If you use this tool please cite: https://pubs.rsna.org/doi/10.1148/ryai.230024\n",
      "\n",
      "Resampling...\n",
      "  Resampled in 23.60s\n",
      "Predicting...\n"
     ]
    },
    {
     "name": "stderr",
     "output_type": "stream",
     "text": [
      "100%|██████████| 288/288 [00:07<00:00, 39.34it/s]\n"
     ]
    },
    {
     "name": "stdout",
     "output_type": "stream",
     "text": [
      "  Predicted in 17.49s\n",
      "Removing small blobs...\n"
     ]
    },
    {
     "name": "stderr",
     "output_type": "stream",
     "text": [
      "100%|██████████| 11/11 [00:15<00:00,  1.41s/it]\n"
     ]
    },
    {
     "name": "stdout",
     "output_type": "stream",
     "text": [
      "  Removed in 15.66s\n",
      "Resampling...\n",
      "Saving segmentations...\n",
      "  Saved in 0.55s\n",
      "9 /usagers4/u139017/Proyecto/total_segmentator/Prueba2TOTSEGTHIN/Mask103543.nii\n",
      "\n",
      "If you use this tool please cite: https://pubs.rsna.org/doi/10.1148/ryai.230024\n",
      "\n",
      "Resampling...\n",
      "  Resampled in 12.61s\n",
      "Predicting...\n"
     ]
    },
    {
     "name": "stderr",
     "output_type": "stream",
     "text": [
      "100%|██████████| 54/54 [00:01<00:00, 41.96it/s]\n"
     ]
    },
    {
     "name": "stdout",
     "output_type": "stream",
     "text": [
      "  Predicted in 5.95s\n",
      "Removing small blobs...\n"
     ]
    },
    {
     "name": "stderr",
     "output_type": "stream",
     "text": [
      "100%|██████████| 11/11 [00:03<00:00,  3.55it/s]\n"
     ]
    },
    {
     "name": "stdout",
     "output_type": "stream",
     "text": [
      "  Removed in 3.13s\n",
      "Resampling...\n",
      "Saving segmentations...\n",
      "  Saved in 0.44s\n",
      "10 /usagers4/u139017/Proyecto/total_segmentator/Prueba2TOTSEGTHIN/Mask103783.nii\n",
      "\n",
      "If you use this tool please cite: https://pubs.rsna.org/doi/10.1148/ryai.230024\n",
      "\n",
      "Resampling...\n",
      "  Resampled in 14.06s\n",
      "Predicting...\n"
     ]
    },
    {
     "name": "stderr",
     "output_type": "stream",
     "text": [
      "100%|██████████| 96/96 [00:02<00:00, 40.86it/s]\n"
     ]
    },
    {
     "name": "stdout",
     "output_type": "stream",
     "text": [
      "  Predicted in 8.22s\n",
      "Removing small blobs...\n"
     ]
    },
    {
     "name": "stderr",
     "output_type": "stream",
     "text": [
      "100%|██████████| 11/11 [00:05<00:00,  2.11it/s]\n"
     ]
    },
    {
     "name": "stdout",
     "output_type": "stream",
     "text": [
      "  Removed in 5.26s\n",
      "Resampling...\n",
      "Saving segmentations...\n",
      "  Saved in 0.41s\n",
      "11 /usagers4/u139017/Proyecto/total_segmentator/Prueba2TOTSEGTHIN/Mask104557.nii\n",
      "\n",
      "If you use this tool please cite: https://pubs.rsna.org/doi/10.1148/ryai.230024\n",
      "\n",
      "Resampling...\n",
      "  Resampled in 16.56s\n",
      "Predicting...\n"
     ]
    },
    {
     "name": "stderr",
     "output_type": "stream",
     "text": [
      "100%|██████████| 112/112 [00:02<00:00, 40.41it/s]\n"
     ]
    },
    {
     "name": "stdout",
     "output_type": "stream",
     "text": [
      "  Predicted in 9.18s\n",
      "Removing small blobs...\n"
     ]
    },
    {
     "name": "stderr",
     "output_type": "stream",
     "text": [
      "100%|██████████| 11/11 [00:05<00:00,  1.91it/s]\n"
     ]
    },
    {
     "name": "stdout",
     "output_type": "stream",
     "text": [
      "  Removed in 5.81s\n",
      "Resampling...\n",
      "Saving segmentations...\n",
      "  Saved in 0.48s\n",
      "12 /usagers4/u139017/Proyecto/total_segmentator/Prueba2TOTSEGTHIN/Mask104842.nii\n",
      "\n",
      "If you use this tool please cite: https://pubs.rsna.org/doi/10.1148/ryai.230024\n",
      "\n",
      "Resampling...\n",
      "  Resampled in 17.64s\n",
      "Predicting...\n"
     ]
    },
    {
     "name": "stderr",
     "output_type": "stream",
     "text": [
      "100%|██████████| 128/128 [00:03<00:00, 39.80it/s]\n"
     ]
    },
    {
     "name": "stdout",
     "output_type": "stream",
     "text": [
      "  Predicted in 9.35s\n",
      "Removing small blobs...\n"
     ]
    },
    {
     "name": "stderr",
     "output_type": "stream",
     "text": [
      "100%|██████████| 11/11 [00:05<00:00,  1.91it/s]\n"
     ]
    },
    {
     "name": "stdout",
     "output_type": "stream",
     "text": [
      "  Removed in 5.82s\n",
      "Resampling...\n",
      "Saving segmentations...\n",
      "  Saved in 0.55s\n",
      "13 /usagers4/u139017/Proyecto/total_segmentator/Prueba2TOTSEGTHIN/Mask104899.nii\n",
      "\n",
      "If you use this tool please cite: https://pubs.rsna.org/doi/10.1148/ryai.230024\n",
      "\n",
      "Resampling...\n",
      "  Resampled in 22.10s\n",
      "Predicting...\n"
     ]
    },
    {
     "name": "stderr",
     "output_type": "stream",
     "text": [
      "100%|██████████| 225/225 [00:05<00:00, 39.72it/s]\n"
     ]
    },
    {
     "name": "stdout",
     "output_type": "stream",
     "text": [
      "  Predicted in 14.39s\n",
      "Removing small blobs...\n"
     ]
    },
    {
     "name": "stderr",
     "output_type": "stream",
     "text": [
      "100%|██████████| 11/11 [00:10<00:00,  1.09it/s]\n"
     ]
    },
    {
     "name": "stdout",
     "output_type": "stream",
     "text": [
      "  Removed in 10.17s\n",
      "Resampling...\n",
      "Saving segmentations...\n",
      "  Saved in 0.60s\n",
      "14 /usagers4/u139017/Proyecto/total_segmentator/Prueba2TOTSEGTHIN/Mask105604.nii\n",
      "\n",
      "If you use this tool please cite: https://pubs.rsna.org/doi/10.1148/ryai.230024\n",
      "\n",
      "Resampling...\n",
      "  Resampled in 20.72s\n",
      "Predicting...\n"
     ]
    },
    {
     "name": "stderr",
     "output_type": "stream",
     "text": [
      "100%|██████████| 225/225 [00:05<00:00, 39.58it/s]\n"
     ]
    },
    {
     "name": "stdout",
     "output_type": "stream",
     "text": [
      "  Predicted in 13.70s\n",
      "Removing small blobs...\n"
     ]
    },
    {
     "name": "stderr",
     "output_type": "stream",
     "text": [
      "100%|██████████| 11/11 [00:08<00:00,  1.29it/s]\n"
     ]
    },
    {
     "name": "stdout",
     "output_type": "stream",
     "text": [
      "  Removed in 8.61s\n",
      "Resampling...\n",
      "Saving segmentations...\n",
      "  Saved in 0.56s\n",
      "15 /usagers4/u139017/Proyecto/total_segmentator/Prueba2TOTSEGTHIN/Mask105710.nii\n",
      "\n",
      "If you use this tool please cite: https://pubs.rsna.org/doi/10.1148/ryai.230024\n",
      "\n",
      "Resampling...\n",
      "  Resampled in 13.50s\n",
      "Predicting...\n"
     ]
    },
    {
     "name": "stderr",
     "output_type": "stream",
     "text": [
      "100%|██████████| 63/63 [00:01<00:00, 41.89it/s]\n"
     ]
    },
    {
     "name": "stdout",
     "output_type": "stream",
     "text": [
      "  Predicted in 6.70s\n",
      "Removing small blobs...\n"
     ]
    },
    {
     "name": "stderr",
     "output_type": "stream",
     "text": [
      "100%|██████████| 11/11 [00:06<00:00,  1.77it/s]\n"
     ]
    },
    {
     "name": "stdout",
     "output_type": "stream",
     "text": [
      "  Removed in 6.24s\n",
      "Resampling...\n",
      "Saving segmentations...\n",
      "  Saved in 0.44s\n",
      "16 /usagers4/u139017/Proyecto/total_segmentator/Prueba2TOTSEGTHIN/Mask106754.nii\n",
      "\n",
      "If you use this tool please cite: https://pubs.rsna.org/doi/10.1148/ryai.230024\n",
      "\n",
      "Resampling...\n",
      "  Resampled in 12.57s\n",
      "Predicting...\n"
     ]
    },
    {
     "name": "stderr",
     "output_type": "stream",
     "text": [
      "100%|██████████| 54/54 [00:01<00:00, 41.69it/s]\n"
     ]
    },
    {
     "name": "stdout",
     "output_type": "stream",
     "text": [
      "  Predicted in 6.16s\n",
      "Removing small blobs...\n"
     ]
    },
    {
     "name": "stderr",
     "output_type": "stream",
     "text": [
      "100%|██████████| 11/11 [00:03<00:00,  3.09it/s]\n"
     ]
    },
    {
     "name": "stdout",
     "output_type": "stream",
     "text": [
      "  Removed in 3.59s\n",
      "Resampling...\n",
      "Saving segmentations...\n",
      "  Saved in 0.42s\n",
      "17 /usagers4/u139017/Proyecto/total_segmentator/Prueba2TOTSEGTHIN/Mask107029.nii\n",
      "\n",
      "If you use this tool please cite: https://pubs.rsna.org/doi/10.1148/ryai.230024\n",
      "\n",
      "Resampling...\n",
      "  Resampled in 16.49s\n",
      "Predicting...\n"
     ]
    },
    {
     "name": "stderr",
     "output_type": "stream",
     "text": [
      "100%|██████████| 128/128 [00:03<00:00, 40.31it/s]\n"
     ]
    },
    {
     "name": "stdout",
     "output_type": "stream",
     "text": [
      "  Predicted in 9.38s\n",
      "Removing small blobs...\n"
     ]
    },
    {
     "name": "stderr",
     "output_type": "stream",
     "text": [
      "100%|██████████| 11/11 [00:07<00:00,  1.51it/s]\n"
     ]
    },
    {
     "name": "stdout",
     "output_type": "stream",
     "text": [
      "  Removed in 7.34s\n",
      "Resampling...\n",
      "Saving segmentations...\n",
      "  Saved in 0.57s\n",
      "18 /usagers4/u139017/Proyecto/total_segmentator/Prueba2TOTSEGTHIN/Mask107156.nii\n",
      "\n",
      "If you use this tool please cite: https://pubs.rsna.org/doi/10.1148/ryai.230024\n",
      "\n",
      "Resampling...\n",
      "  Resampled in 17.31s\n",
      "Predicting...\n"
     ]
    },
    {
     "name": "stderr",
     "output_type": "stream",
     "text": [
      "100%|██████████| 128/128 [00:03<00:00, 40.41it/s]\n"
     ]
    },
    {
     "name": "stdout",
     "output_type": "stream",
     "text": [
      "  Predicted in 9.74s\n",
      "Removing small blobs...\n"
     ]
    },
    {
     "name": "stderr",
     "output_type": "stream",
     "text": [
      "100%|██████████| 11/11 [00:06<00:00,  1.68it/s]\n"
     ]
    },
    {
     "name": "stdout",
     "output_type": "stream",
     "text": [
      "  Removed in 6.60s\n",
      "Resampling...\n",
      "Saving segmentations...\n",
      "  Saved in 0.50s\n",
      "19 /usagers4/u139017/Proyecto/total_segmentator/Prueba2TOTSEGTHIN/Mask107597.nii\n",
      "\n",
      "If you use this tool please cite: https://pubs.rsna.org/doi/10.1148/ryai.230024\n",
      "\n",
      "Resampling...\n",
      "  Resampled in 12.75s\n",
      "Predicting...\n"
     ]
    },
    {
     "name": "stderr",
     "output_type": "stream",
     "text": [
      "100%|██████████| 54/54 [00:01<00:00, 42.01it/s]\n"
     ]
    },
    {
     "name": "stdout",
     "output_type": "stream",
     "text": [
      "  Predicted in 6.16s\n",
      "Removing small blobs...\n"
     ]
    },
    {
     "name": "stderr",
     "output_type": "stream",
     "text": [
      "100%|██████████| 11/11 [00:03<00:00,  3.19it/s]\n"
     ]
    },
    {
     "name": "stdout",
     "output_type": "stream",
     "text": [
      "  Removed in 3.48s\n",
      "Resampling...\n",
      "Saving segmentations...\n",
      "  Saved in 0.43s\n",
      "20 /usagers4/u139017/Proyecto/total_segmentator/Prueba2TOTSEGTHIN/Mask108398.nii\n",
      "\n",
      "If you use this tool please cite: https://pubs.rsna.org/doi/10.1148/ryai.230024\n",
      "\n",
      "Resampling...\n",
      "  Resampled in 16.41s\n",
      "Predicting...\n"
     ]
    },
    {
     "name": "stderr",
     "output_type": "stream",
     "text": [
      "100%|██████████| 128/128 [00:03<00:00, 40.11it/s]\n"
     ]
    },
    {
     "name": "stdout",
     "output_type": "stream",
     "text": [
      "  Predicted in 9.34s\n",
      "Removing small blobs...\n"
     ]
    },
    {
     "name": "stderr",
     "output_type": "stream",
     "text": [
      "100%|██████████| 11/11 [00:05<00:00,  1.90it/s]\n"
     ]
    },
    {
     "name": "stdout",
     "output_type": "stream",
     "text": [
      "  Removed in 5.83s\n",
      "Resampling...\n",
      "Saving segmentations...\n",
      "  Saved in 0.56s\n",
      "21 /usagers4/u139017/Proyecto/total_segmentator/Prueba2TOTSEGTHIN/Mask108421.nii\n",
      "\n",
      "If you use this tool please cite: https://pubs.rsna.org/doi/10.1148/ryai.230024\n",
      "\n",
      "Resampling...\n",
      "  Resampled in 23.66s\n",
      "Predicting...\n"
     ]
    },
    {
     "name": "stderr",
     "output_type": "stream",
     "text": [
      "100%|██████████| 250/250 [00:06<00:00, 39.71it/s]\n"
     ]
    },
    {
     "name": "stdout",
     "output_type": "stream",
     "text": [
      "  Predicted in 15.04s\n",
      "Removing small blobs...\n"
     ]
    },
    {
     "name": "stderr",
     "output_type": "stream",
     "text": [
      "100%|██████████| 11/11 [00:10<00:00,  1.06it/s]\n"
     ]
    },
    {
     "name": "stdout",
     "output_type": "stream",
     "text": [
      "  Removed in 10.46s\n",
      "Resampling...\n",
      "Saving segmentations...\n",
      "  Saved in 0.64s\n",
      "22 /usagers4/u139017/Proyecto/total_segmentator/Prueba2TOTSEGTHIN/Mask109733.nii\n",
      "\n",
      "If you use this tool please cite: https://pubs.rsna.org/doi/10.1148/ryai.230024\n",
      "\n",
      "Resampling...\n",
      "  Resampled in 16.67s\n",
      "Predicting...\n"
     ]
    },
    {
     "name": "stderr",
     "output_type": "stream",
     "text": [
      "100%|██████████| 112/112 [00:02<00:00, 40.35it/s]\n"
     ]
    },
    {
     "name": "stdout",
     "output_type": "stream",
     "text": [
      "  Predicted in 9.41s\n",
      "Removing small blobs...\n"
     ]
    },
    {
     "name": "stderr",
     "output_type": "stream",
     "text": [
      "100%|██████████| 11/11 [00:06<00:00,  1.71it/s]\n"
     ]
    },
    {
     "name": "stdout",
     "output_type": "stream",
     "text": [
      "  Removed in 6.47s\n",
      "Resampling...\n",
      "Saving segmentations...\n",
      "  Saved in 0.54s\n",
      "23 /usagers4/u139017/Proyecto/total_segmentator/Prueba2TOTSEGTHIN/Mask109755.nii\n",
      "\n",
      "If you use this tool please cite: https://pubs.rsna.org/doi/10.1148/ryai.230024\n",
      "\n",
      "Resampling...\n",
      "  Resampled in 20.63s\n",
      "Predicting...\n"
     ]
    },
    {
     "name": "stderr",
     "output_type": "stream",
     "text": [
      "100%|██████████| 200/200 [00:05<00:00, 39.77it/s]\n"
     ]
    },
    {
     "name": "stdout",
     "output_type": "stream",
     "text": [
      "  Predicted in 13.21s\n",
      "Removing small blobs...\n"
     ]
    },
    {
     "name": "stderr",
     "output_type": "stream",
     "text": [
      "100%|██████████| 11/11 [00:09<00:00,  1.18it/s]\n"
     ]
    },
    {
     "name": "stdout",
     "output_type": "stream",
     "text": [
      "  Removed in 9.40s\n",
      "Resampling...\n",
      "Saving segmentations...\n",
      "  Saved in 0.56s\n",
      "24 /usagers4/u139017/Proyecto/total_segmentator/Prueba2TOTSEGTHIN/Mask111539.nii\n",
      "\n",
      "If you use this tool please cite: https://pubs.rsna.org/doi/10.1148/ryai.230024\n",
      "\n",
      "Resampling...\n",
      "  Resampled in 22.12s\n",
      "Predicting...\n"
     ]
    },
    {
     "name": "stderr",
     "output_type": "stream",
     "text": [
      "100%|██████████| 200/200 [00:05<00:00, 39.74it/s]\n"
     ]
    },
    {
     "name": "stdout",
     "output_type": "stream",
     "text": [
      "  Predicted in 14.35s\n",
      "Removing small blobs...\n"
     ]
    },
    {
     "name": "stderr",
     "output_type": "stream",
     "text": [
      "100%|██████████| 11/11 [00:10<00:00,  1.00it/s]\n"
     ]
    },
    {
     "name": "stdout",
     "output_type": "stream",
     "text": [
      "  Removed in 11.09s\n",
      "Resampling...\n",
      "Saving segmentations...\n",
      "  Saved in 0.55s\n",
      "25 /usagers4/u139017/Proyecto/total_segmentator/Prueba2TOTSEGTHIN/Mask111801.nii\n",
      "\n",
      "If you use this tool please cite: https://pubs.rsna.org/doi/10.1148/ryai.230024\n",
      "\n",
      "Resampling...\n",
      "  Resampled in 10.66s\n",
      "Predicting...\n"
     ]
    },
    {
     "name": "stderr",
     "output_type": "stream",
     "text": [
      "100%|██████████| 54/54 [00:01<00:00, 42.17it/s]\n"
     ]
    },
    {
     "name": "stdout",
     "output_type": "stream",
     "text": [
      "  Predicted in 5.43s\n",
      "Removing small blobs...\n"
     ]
    },
    {
     "name": "stderr",
     "output_type": "stream",
     "text": [
      "100%|██████████| 11/11 [00:02<00:00,  5.02it/s]\n"
     ]
    },
    {
     "name": "stdout",
     "output_type": "stream",
     "text": [
      "  Removed in 2.21s\n",
      "Resampling...\n",
      "Saving segmentations...\n",
      "  Saved in 0.38s\n",
      "26 /usagers4/u139017/Proyecto/total_segmentator/Prueba2TOTSEGTHIN/Mask112071.nii\n",
      "\n",
      "If you use this tool please cite: https://pubs.rsna.org/doi/10.1148/ryai.230024\n",
      "\n",
      "Resampling...\n",
      "  Resampled in 19.55s\n",
      "Predicting...\n"
     ]
    },
    {
     "name": "stderr",
     "output_type": "stream",
     "text": [
      "100%|██████████| 200/200 [00:05<00:00, 39.92it/s]\n"
     ]
    },
    {
     "name": "stdout",
     "output_type": "stream",
     "text": [
      "  Predicted in 12.99s\n",
      "Removing small blobs...\n"
     ]
    },
    {
     "name": "stderr",
     "output_type": "stream",
     "text": [
      "100%|██████████| 11/11 [00:08<00:00,  1.26it/s]\n"
     ]
    },
    {
     "name": "stdout",
     "output_type": "stream",
     "text": [
      "  Removed in 8.78s\n",
      "Resampling...\n",
      "Saving segmentations...\n",
      "  Saved in 0.61s\n",
      "27 /usagers4/u139017/Proyecto/total_segmentator/Prueba2TOTSEGTHIN/Mask112076.nii\n",
      "\n",
      "If you use this tool please cite: https://pubs.rsna.org/doi/10.1148/ryai.230024\n",
      "\n",
      "Resampling...\n",
      "  Resampled in 17.29s\n",
      "Predicting...\n"
     ]
    },
    {
     "name": "stderr",
     "output_type": "stream",
     "text": [
      "100%|██████████| 128/128 [00:03<00:00, 40.00it/s]\n"
     ]
    },
    {
     "name": "stdout",
     "output_type": "stream",
     "text": [
      "  Predicted in 9.87s\n",
      "Removing small blobs...\n"
     ]
    },
    {
     "name": "stderr",
     "output_type": "stream",
     "text": [
      "100%|██████████| 11/11 [00:06<00:00,  1.73it/s]\n"
     ]
    },
    {
     "name": "stdout",
     "output_type": "stream",
     "text": [
      "  Removed in 6.42s\n",
      "Resampling...\n",
      "Saving segmentations...\n",
      "  Saved in 0.60s\n"
     ]
    }
   ],
   "source": [
    "a = 0\n",
    "for filename in os.listdir(input_dir):\n",
    "    if filename.endswith(\".nii.gz\"):\n",
    "        input_path = os.path.join(input_dir, filename)\n",
    "\n",
    "        base_name = os.path.splitext(filename)[0]       # lowExtCase-100137\n",
    "        case_number = base_name.split(\"-\")[-1]          # 100137\n",
    "\n",
    "        output_folder = os.path.join(output_base, f\"Mask{case_number}\")\n",
    "        a += 1\n",
    "        print(a, output_folder)\n",
    "        totalsegmentator(input_path, output_folder, fast=False, task='appendicular_bones',ml = True, higher_order_resampling= True,\n",
    "                 remove_small_blobs=True, license_number=licencia)\n",
    "        time.sleep(0.5)  # To ensure the import order is correct"
   ]
  },
  {
   "cell_type": "markdown",
   "id": "e51cf59f",
   "metadata": {},
   "source": [
    "EXAMPLE without using multilabel"
   ]
  },
  {
   "cell_type": "code",
   "execution_count": 7,
   "id": "483270c3",
   "metadata": {},
   "outputs": [
    {
     "name": "stdout",
     "output_type": "stream",
     "text": [
      "\n",
      "If you use this tool please cite: https://pubs.rsna.org/doi/10.1148/ryai.230024\n",
      "\n",
      "Converting dicom to nifti...\n",
      "  found image with shape (512, 512, 361)\n",
      "Resampling...\n",
      "  Resampled in 13.11s\n",
      "Predicting part 1 of 5 ...\n"
     ]
    },
    {
     "name": "stderr",
     "output_type": "stream",
     "text": [
      "100%|██████████| 112/112 [00:02<00:00, 39.27it/s]\n"
     ]
    },
    {
     "name": "stdout",
     "output_type": "stream",
     "text": [
      "Predicting part 2 of 5 ...\n"
     ]
    },
    {
     "name": "stderr",
     "output_type": "stream",
     "text": [
      "100%|██████████| 112/112 [00:02<00:00, 38.99it/s]\n"
     ]
    },
    {
     "name": "stdout",
     "output_type": "stream",
     "text": [
      "Predicting part 3 of 5 ...\n"
     ]
    },
    {
     "name": "stderr",
     "output_type": "stream",
     "text": [
      "100%|██████████| 112/112 [00:02<00:00, 39.73it/s]\n"
     ]
    },
    {
     "name": "stdout",
     "output_type": "stream",
     "text": [
      "Predicting part 4 of 5 ...\n"
     ]
    },
    {
     "name": "stderr",
     "output_type": "stream",
     "text": [
      "100%|██████████| 112/112 [00:02<00:00, 39.30it/s]\n"
     ]
    },
    {
     "name": "stdout",
     "output_type": "stream",
     "text": [
      "Predicting part 5 of 5 ...\n"
     ]
    },
    {
     "name": "stderr",
     "output_type": "stream",
     "text": [
      "100%|██████████| 112/112 [00:02<00:00, 38.87it/s]\n"
     ]
    },
    {
     "name": "stdout",
     "output_type": "stream",
     "text": [
      "  Predicted in 87.44s\n",
      "Resampling...\n",
      "Saving segmentations...\n",
      "  Saved in 7.62s\n"
     ]
    },
    {
     "data": {
      "text/plain": [
       "<nibabel.nifti1.Nifti1Image at 0x7f62be19be60>"
      ]
     },
     "execution_count": 7,
     "metadata": {},
     "output_type": "execute_result"
    }
   ],
   "source": [
    "input_path = \"./temp_dicom_extraction\"  # Carpeta con  DICOMs\n",
    "input_path = '20_bone_lwr_ext_3x3.nii'\n",
    "\n",
    "output_path = \"./segment_piernas\"  # Carpeta donde guardar segmentación\n",
    "\n",
    "totalsegmentator(bone_path, output_path, fast=False, task='total',ml = False, higher_order_resampling= True,\n",
    "                 remove_small_blobs=False, license_number=licencia)"
   ]
  },
  {
   "cell_type": "code",
   "execution_count": 4,
   "id": "92241568",
   "metadata": {},
   "outputs": [
    {
     "name": "stdout",
     "output_type": "stream",
     "text": [
      "1 /usagers4/u139017/Documents/THIN_MASK2/Mask101607.nii\n",
      "\n",
      "If you use this tool please cite: https://pubs.rsna.org/doi/10.1148/ryai.230024\n",
      "\n",
      "Resampling...\n",
      "  Resampled in 14.59s\n",
      "Predicting...\n"
     ]
    },
    {
     "name": "stderr",
     "output_type": "stream",
     "text": [
      "100%|██████████| 125/125 [00:03<00:00, 40.64it/s]\n"
     ]
    },
    {
     "name": "stdout",
     "output_type": "stream",
     "text": [
      "  Predicted in 11.55s\n",
      "Removing small blobs...\n"
     ]
    },
    {
     "name": "stderr",
     "output_type": "stream",
     "text": [
      "100%|██████████| 11/11 [00:05<00:00,  1.86it/s]\n"
     ]
    },
    {
     "name": "stdout",
     "output_type": "stream",
     "text": [
      "  Removed in 5.97s\n",
      "Resampling...\n",
      "Saving segmentations...\n",
      "Shape of output image is very big. Setting nr_threads_saving=1 to save memory.\n",
      "  Saved in 6.89s\n",
      "2 /usagers4/u139017/Documents/THIN_MASK2/Mask101913.nii\n",
      "\n",
      "If you use this tool please cite: https://pubs.rsna.org/doi/10.1148/ryai.230024\n",
      "\n",
      "Resampling...\n",
      "  Resampled in 22.25s\n",
      "Predicting...\n"
     ]
    },
    {
     "name": "stderr",
     "output_type": "stream",
     "text": [
      "100%|██████████| 225/225 [00:05<00:00, 39.63it/s]\n"
     ]
    },
    {
     "name": "stdout",
     "output_type": "stream",
     "text": [
      "  Predicted in 16.46s\n",
      "Removing small blobs...\n"
     ]
    },
    {
     "name": "stderr",
     "output_type": "stream",
     "text": [
      "100%|██████████| 11/11 [00:09<00:00,  1.21it/s]\n"
     ]
    },
    {
     "name": "stdout",
     "output_type": "stream",
     "text": [
      "  Removed in 9.20s\n",
      "Resampling...\n",
      "Saving segmentations...\n",
      "Shape of output image is very big. Setting nr_threads_saving=1 to save memory.\n",
      "  Saved in 11.13s\n",
      "3 /usagers4/u139017/Documents/THIN_MASK2/Mask102480.nii\n",
      "\n",
      "If you use this tool please cite: https://pubs.rsna.org/doi/10.1148/ryai.230024\n",
      "\n",
      "Resampling...\n",
      "  Resampled in 14.31s\n",
      "Predicting...\n"
     ]
    },
    {
     "name": "stderr",
     "output_type": "stream",
     "text": [
      "100%|██████████| 112/112 [00:02<00:00, 41.41it/s]\n"
     ]
    },
    {
     "name": "stdout",
     "output_type": "stream",
     "text": [
      "  Predicted in 8.09s\n",
      "Removing small blobs...\n"
     ]
    },
    {
     "name": "stderr",
     "output_type": "stream",
     "text": [
      "100%|██████████| 11/11 [00:03<00:00,  3.04it/s]\n"
     ]
    },
    {
     "name": "stdout",
     "output_type": "stream",
     "text": [
      "  Removed in 3.66s\n",
      "Resampling...\n",
      "Saving segmentations...\n",
      "Shape of output image is very big. Setting nr_threads_saving=1 to save memory.\n",
      "  Saved in 8.67s\n",
      "4 /usagers4/u139017/Documents/THIN_MASK2/Mask103497.nii\n",
      "\n",
      "If you use this tool please cite: https://pubs.rsna.org/doi/10.1148/ryai.230024\n",
      "\n",
      "Resampling...\n",
      "  Resampled in 12.84s\n",
      "Predicting...\n"
     ]
    },
    {
     "name": "stderr",
     "output_type": "stream",
     "text": [
      "100%|██████████| 125/125 [00:03<00:00, 40.48it/s]\n"
     ]
    },
    {
     "name": "stdout",
     "output_type": "stream",
     "text": [
      "  Predicted in 9.16s\n",
      "Removing small blobs...\n"
     ]
    },
    {
     "name": "stderr",
     "output_type": "stream",
     "text": [
      "100%|██████████| 11/11 [00:04<00:00,  2.34it/s]\n"
     ]
    },
    {
     "name": "stdout",
     "output_type": "stream",
     "text": [
      "  Removed in 4.74s\n",
      "Resampling...\n",
      "Saving segmentations...\n",
      "Shape of output image is very big. Setting nr_threads_saving=1 to save memory.\n",
      "  Saved in 6.45s\n",
      "5 /usagers4/u139017/Documents/THIN_MASK2/Mask103543.nii\n",
      "\n",
      "If you use this tool please cite: https://pubs.rsna.org/doi/10.1148/ryai.230024\n",
      "\n",
      "Resampling...\n",
      "  Resampled in 19.02s\n",
      "Predicting...\n"
     ]
    },
    {
     "name": "stderr",
     "output_type": "stream",
     "text": [
      "100%|██████████| 128/128 [00:03<00:00, 41.10it/s]\n"
     ]
    },
    {
     "name": "stdout",
     "output_type": "stream",
     "text": [
      "  Predicted in 10.32s\n",
      "Removing small blobs...\n"
     ]
    },
    {
     "name": "stderr",
     "output_type": "stream",
     "text": [
      "100%|██████████| 11/11 [00:06<00:00,  1.65it/s]\n"
     ]
    },
    {
     "name": "stdout",
     "output_type": "stream",
     "text": [
      "  Removed in 6.73s\n",
      "Resampling...\n",
      "Saving segmentations...\n",
      "Shape of output image is very big. Setting nr_threads_saving=1 to save memory.\n",
      "  Saved in 10.29s\n",
      "6 /usagers4/u139017/Documents/THIN_MASK2/Mask103783.nii\n",
      "\n",
      "If you use this tool please cite: https://pubs.rsna.org/doi/10.1148/ryai.230024\n",
      "\n",
      "Resampling...\n",
      "  Resampled in 13.32s\n",
      "Predicting...\n"
     ]
    },
    {
     "name": "stderr",
     "output_type": "stream",
     "text": [
      "100%|██████████| 125/125 [00:03<00:00, 41.24it/s]\n"
     ]
    },
    {
     "name": "stdout",
     "output_type": "stream",
     "text": [
      "  Predicted in 9.46s\n",
      "Removing small blobs...\n"
     ]
    },
    {
     "name": "stderr",
     "output_type": "stream",
     "text": [
      "100%|██████████| 11/11 [00:04<00:00,  2.24it/s]\n"
     ]
    },
    {
     "name": "stdout",
     "output_type": "stream",
     "text": [
      "  Removed in 4.97s\n",
      "Resampling...\n",
      "Saving segmentations...\n",
      "Shape of output image is very big. Setting nr_threads_saving=1 to save memory.\n",
      "  Saved in 6.42s\n",
      "7 /usagers4/u139017/Documents/THIN_MASK2/Mask104557.nii\n",
      "\n",
      "If you use this tool please cite: https://pubs.rsna.org/doi/10.1148/ryai.230024\n",
      "\n",
      "Resampling...\n",
      "  Resampled in 26.81s\n",
      "Predicting...\n"
     ]
    },
    {
     "name": "stderr",
     "output_type": "stream",
     "text": [
      "100%|██████████| 360/360 [00:08<00:00, 40.31it/s]\n"
     ]
    },
    {
     "name": "stdout",
     "output_type": "stream",
     "text": [
      "  Predicted in 20.61s\n",
      "Removing small blobs...\n"
     ]
    },
    {
     "name": "stderr",
     "output_type": "stream",
     "text": [
      "100%|██████████| 11/11 [00:13<00:00,  1.20s/it]\n"
     ]
    },
    {
     "name": "stdout",
     "output_type": "stream",
     "text": [
      "  Removed in 13.29s\n",
      "Resampling...\n",
      "Saving segmentations...\n",
      "Shape of output image is very big. Setting nr_threads_saving=1 to save memory.\n",
      "  Saved in 12.28s\n",
      "8 /usagers4/u139017/Documents/THIN_MASK2/Mask104842.nii\n",
      "\n",
      "If you use this tool please cite: https://pubs.rsna.org/doi/10.1148/ryai.230024\n",
      "\n",
      "Resampling...\n",
      "  Resampled in 16.90s\n",
      "Predicting...\n"
     ]
    },
    {
     "name": "stderr",
     "output_type": "stream",
     "text": [
      "100%|██████████| 128/128 [00:03<00:00, 41.10it/s]\n"
     ]
    },
    {
     "name": "stdout",
     "output_type": "stream",
     "text": [
      "  Predicted in 9.13s\n",
      "Removing small blobs...\n"
     ]
    },
    {
     "name": "stderr",
     "output_type": "stream",
     "text": [
      "100%|██████████| 11/11 [00:06<00:00,  1.82it/s]\n"
     ]
    },
    {
     "name": "stdout",
     "output_type": "stream",
     "text": [
      "  Removed in 6.10s\n",
      "Resampling...\n",
      "Saving segmentations...\n",
      "Shape of output image is very big. Setting nr_threads_saving=1 to save memory.\n",
      "  Saved in 10.00s\n",
      "9 /usagers4/u139017/Documents/THIN_MASK2/Mask104899.nii\n",
      "\n",
      "If you use this tool please cite: https://pubs.rsna.org/doi/10.1148/ryai.230024\n",
      "\n",
      "Resampling...\n",
      "  Resampled in 12.26s\n",
      "Predicting...\n"
     ]
    },
    {
     "name": "stderr",
     "output_type": "stream",
     "text": [
      "100%|██████████| 63/63 [00:01<00:00, 42.65it/s]\n"
     ]
    },
    {
     "name": "stdout",
     "output_type": "stream",
     "text": [
      "  Predicted in 5.62s\n",
      "Removing small blobs...\n"
     ]
    },
    {
     "name": "stderr",
     "output_type": "stream",
     "text": [
      "100%|██████████| 11/11 [00:01<00:00,  5.67it/s]\n"
     ]
    },
    {
     "name": "stdout",
     "output_type": "stream",
     "text": [
      "  Removed in 1.96s\n",
      "Resampling...\n",
      "Saving segmentations...\n",
      "Shape of output image is very big. Setting nr_threads_saving=1 to save memory.\n",
      "  Saved in 7.79s\n",
      "10 /usagers4/u139017/Documents/THIN_MASK2/Mask100749.nii\n",
      "\n",
      "If you use this tool please cite: https://pubs.rsna.org/doi/10.1148/ryai.230024\n",
      "\n",
      "Resampling...\n",
      "  Resampled in 22.05s\n",
      "Predicting...\n"
     ]
    },
    {
     "name": "stderr",
     "output_type": "stream",
     "text": [
      "100%|██████████| 225/225 [00:05<00:00, 40.71it/s]\n"
     ]
    },
    {
     "name": "stdout",
     "output_type": "stream",
     "text": [
      "  Predicted in 14.13s\n",
      "Removing small blobs...\n"
     ]
    },
    {
     "name": "stderr",
     "output_type": "stream",
     "text": [
      "100%|██████████| 11/11 [00:08<00:00,  1.23it/s]\n"
     ]
    },
    {
     "name": "stdout",
     "output_type": "stream",
     "text": [
      "  Removed in 9.06s\n",
      "Resampling...\n",
      "Saving segmentations...\n",
      "Shape of output image is very big. Setting nr_threads_saving=1 to save memory.\n",
      "  Saved in 10.31s\n",
      "11 /usagers4/u139017/Documents/THIN_MASK2/Mask100387.nii\n",
      "\n",
      "If you use this tool please cite: https://pubs.rsna.org/doi/10.1148/ryai.230024\n",
      "\n",
      "Resampling...\n",
      "  Resampled in 12.74s\n",
      "Predicting...\n"
     ]
    },
    {
     "name": "stderr",
     "output_type": "stream",
     "text": [
      "100%|██████████| 54/54 [00:01<00:00, 40.99it/s]\n"
     ]
    },
    {
     "name": "stdout",
     "output_type": "stream",
     "text": [
      "  Predicted in 6.10s\n",
      "Removing small blobs...\n"
     ]
    },
    {
     "name": "stderr",
     "output_type": "stream",
     "text": [
      "100%|██████████| 11/11 [00:02<00:00,  4.03it/s]\n"
     ]
    },
    {
     "name": "stdout",
     "output_type": "stream",
     "text": [
      "  Removed in 2.76s\n",
      "Resampling...\n",
      "Saving segmentations...\n",
      "Shape of output image is very big. Setting nr_threads_saving=1 to save memory.\n",
      "  Saved in 7.53s\n",
      "12 /usagers4/u139017/Documents/THIN_MASK2/Mask100335.nii\n",
      "\n",
      "If you use this tool please cite: https://pubs.rsna.org/doi/10.1148/ryai.230024\n",
      "\n",
      "Resampling...\n",
      "  Resampled in 17.30s\n",
      "Predicting...\n"
     ]
    },
    {
     "name": "stderr",
     "output_type": "stream",
     "text": [
      "100%|██████████| 128/128 [00:03<00:00, 39.70it/s]\n"
     ]
    },
    {
     "name": "stdout",
     "output_type": "stream",
     "text": [
      "  Predicted in 9.40s\n",
      "Removing small blobs...\n"
     ]
    },
    {
     "name": "stderr",
     "output_type": "stream",
     "text": [
      "100%|██████████| 11/11 [00:05<00:00,  2.16it/s]\n"
     ]
    },
    {
     "name": "stdout",
     "output_type": "stream",
     "text": [
      "  Removed in 5.13s\n",
      "Resampling...\n",
      "Saving segmentations...\n",
      "Shape of output image is very big. Setting nr_threads_saving=1 to save memory.\n",
      "  Saved in 10.16s\n",
      "13 /usagers4/u139017/Documents/THIN_MASK2/Mask100308.nii\n",
      "\n",
      "If you use this tool please cite: https://pubs.rsna.org/doi/10.1148/ryai.230024\n",
      "\n",
      "Resampling...\n",
      "  Resampled in 16.45s\n",
      "Predicting...\n"
     ]
    },
    {
     "name": "stderr",
     "output_type": "stream",
     "text": [
      "100%|██████████| 112/112 [00:02<00:00, 41.33it/s]\n"
     ]
    },
    {
     "name": "stdout",
     "output_type": "stream",
     "text": [
      "  Predicted in 9.06s\n",
      "Removing small blobs...\n"
     ]
    },
    {
     "name": "stderr",
     "output_type": "stream",
     "text": [
      "100%|██████████| 11/11 [00:05<00:00,  2.03it/s]\n"
     ]
    },
    {
     "name": "stdout",
     "output_type": "stream",
     "text": [
      "  Removed in 5.46s\n",
      "Resampling...\n",
      "Saving segmentations...\n",
      "Shape of output image is very big. Setting nr_threads_saving=1 to save memory.\n",
      "  Saved in 8.50s\n",
      "14 /usagers4/u139017/Documents/THIN_MASK2/Mask100324.nii\n",
      "\n",
      "If you use this tool please cite: https://pubs.rsna.org/doi/10.1148/ryai.230024\n",
      "\n",
      "Resampling...\n",
      "  Resampled in 23.60s\n",
      "Predicting...\n"
     ]
    },
    {
     "name": "stderr",
     "output_type": "stream",
     "text": [
      "100%|██████████| 288/288 [00:07<00:00, 40.59it/s]\n"
     ]
    },
    {
     "name": "stdout",
     "output_type": "stream",
     "text": [
      "  Predicted in 17.01s\n",
      "Removing small blobs...\n"
     ]
    },
    {
     "name": "stderr",
     "output_type": "stream",
     "text": [
      "100%|██████████| 11/11 [00:13<00:00,  1.22s/it]\n"
     ]
    },
    {
     "name": "stdout",
     "output_type": "stream",
     "text": [
      "  Removed in 13.55s\n",
      "Resampling...\n",
      "Saving segmentations...\n",
      "Shape of output image is very big. Setting nr_threads_saving=1 to save memory.\n",
      "  Saved in 9.55s\n"
     ]
    }
   ],
   "source": [
    "import os\n",
    "import tarfile\n",
    "import shutil\n",
    "import pydicom\n",
    "import matplotlib.pyplot as plt\n",
    "import numpy as np\n",
    "import nibabel as nib\n",
    "import numpy as np\n",
    "import time\n",
    "\n",
    "from ipywidgets import interact\n",
    "from IPython.display import display\n",
    "\n",
    "from totalsegmentator.python_api import totalsegmentator\n",
    "\n",
    "licencia = 'aca_NO69LYNYUJAMI2'#\n",
    "# Ruta donde están los .nii\n",
    "input_dir = \"/usagers4/u139017/Documents/nii_files\"  \n",
    "output_base = \"/usagers4/u139017/Documents/THIN_MASK2\"  \n",
    "\n",
    "a = 0\n",
    "for filename in os.listdir(input_dir):\n",
    "    if filename.endswith(\".nii.gz\"):\n",
    "        input_path = os.path.join(input_dir, filename)\n",
    "\n",
    "        base_name = os.path.splitext(filename)[0]       # lowExtCase-100137\n",
    "        case_number = base_name.split(\"-\")[-1]          # 100137\n",
    "\n",
    "        output_folder = os.path.join(output_base, f\"Mask{case_number}\")\n",
    "        a += 1\n",
    "        print(a, output_folder)\n",
    "        totalsegmentator(input_path, output_folder, fast=False, task='appendicular_bones',ml = False, higher_order_resampling= True,\n",
    "                 remove_small_blobs=True, license_number=licencia)\n",
    "        time.sleep(0.5)  # To ensure the import order is correct"
   ]
  }
 ],
 "metadata": {
  "kernelspec": {
   "display_name": "segmagic",
   "language": "python",
   "name": "python3"
  },
  "language_info": {
   "codemirror_mode": {
    "name": "ipython",
    "version": 3
   },
   "file_extension": ".py",
   "mimetype": "text/x-python",
   "name": "python",
   "nbconvert_exporter": "python",
   "pygments_lexer": "ipython3",
   "version": "3.12.3"
  }
 },
 "nbformat": 4,
 "nbformat_minor": 5
}
