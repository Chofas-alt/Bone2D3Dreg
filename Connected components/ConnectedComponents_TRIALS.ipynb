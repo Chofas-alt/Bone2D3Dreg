{
 "cells": [
  {
   "cell_type": "code",
   "execution_count": null,
   "id": "90b2ae3c",
   "metadata": {},
   "outputs": [],
   "source": [
    "import os\n",
    "import nibabel as nib\n",
    "import numpy as np\n",
    "from scipy.ndimage import label, center_of_mass\n",
    "import matplotlib.pyplot as plt\n",
    "\n"
   ]
  },
  {
   "cell_type": "code",
   "execution_count": null,
   "id": "b574614b",
   "metadata": {},
   "outputs": [
    {
     "name": "stdout",
     "output_type": "stream",
     "text": [
      "Se encontraron 2 componentes conectados\n"
     ]
    }
   ],
   "source": [
    "# Path to the binary mask NIfTI file\n",
    "dir = \"/usagers4/u139017/Proyecto/Connected components?/tibia_111801.nii.gz\"\n",
    "# loads\n",
    "nii = nib.load(dir)\n",
    "data = nii.get_fdata()\n",
    "\n",
    "# labels connected components\n",
    "labeled, num = label(data)\n",
    "\n",
    "print(f\"found {num} connected components\")\n",
    "\n",
    "# Calcular centroides \n",
    "centroids = center_of_mass(data, labeled, range(1, num+1))\n",
    "\n",
    "# sort by x coordinate\n",
    "order = sorted(range(num), key=lambda i: centroids[i][0])  # X from left to right\n",
    "\n",
    "# create masks\n",
    "left_mask = (labeled == (order[0] + 1)).astype(np.uint8)\n",
    "right_mask = (labeled == (order[1] + 1)).astype(np.uint8)\n",
    "\n",
    "# savve masks\n",
    "left_img = nib.Nifti1Image(left_mask, nii.affine)\n",
    "right_img = nib.Nifti1Image(right_mask, nii.affine)\n",
    "nib.save(left_img, \"tibia_ejemplo_izquierda.nii.gz\")\n",
    "nib.save(right_img, \"tibia_ejemplo_derecha.nii.gz\")\n"
   ]
  },
  {
   "cell_type": "markdown",
   "id": "8b0d1e4c",
   "metadata": {},
   "source": [
    "ADD pre visualization for every subject"
   ]
  },
  {
   "cell_type": "code",
   "execution_count": null,
   "id": "be9dd64e",
   "metadata": {},
   "outputs": [
    {
     "name": "stdout",
     "output_type": "stream",
     "text": [
      "Procesando tibia_111539.nii.gz\n",
      "Procesando tibia_111801.nii.gz\n",
      "Procesando tibia_112076.nii.gz\n",
      "✅ Procesamiento por lote terminado.\n"
     ]
    }
   ],
   "source": [
    "\n",
    "input_folder = \"/usagers4/u139017/Proyecto/Connected components?/prueba_tibia\"       \n",
    "output_folder = os.path.join(input_folder, \"separated\")  # subfolder for results\n",
    "os.makedirs(output_folder, exist_ok=True)\n",
    "\n",
    "for filename in os.listdir(input_folder):\n",
    "    if filename.startswith(\"tibia_\") and filename.endswith(\".nii.gz\"):\n",
    "        print(f\"Procesando {filename}\")\n",
    "        path = os.path.join(input_folder, filename)\n",
    "        nii = nib.load(path)\n",
    "        data = nii.get_fdata()\n",
    "\n",
    "        # Connected components\n",
    "        labeled, num = label(data)\n",
    "        if num != 2:\n",
    "            print(f\"  Se encontraron {num} componentes en {filename}, se esperaba 2. Saltando...\")\n",
    "            continue\n",
    "\n",
    "        # Centroids calculation\n",
    "        centroids = center_of_mass(data, labeled, range(1, num+1))\n",
    "        # sort by X coordinate\n",
    "        order = sorted(range(num), key=lambda i: centroids[i][0])\n",
    "\n",
    "        # Since X axis goes from left to right\n",
    "        idx_left = order[1] + 1  # Componente con mayor X\n",
    "        idx_right = order[0] + 1 # Componente con menor X\n",
    "\n",
    "        # Crear MASKS\n",
    "        left_mask = (labeled == idx_left).astype(np.uint8)\n",
    "        right_mask = (labeled == idx_right).astype(np.uint8)\n",
    "\n",
    "        # saves\n",
    "        base = filename.replace(\"tibia_\", \"\").replace(\".nii.gz\", \"\")\n",
    "        nib.save(nib.Nifti1Image(left_mask, nii.affine), os.path.join(output_folder, f\"left_tibia_{base}.nii.gz\"))\n",
    "        nib.save(nib.Nifti1Image(right_mask, nii.affine), os.path.join(output_folder, f\"right_tibia_{base}.nii.gz\"))\n",
    "\n",
    "        # Slice medio del eje Z\n",
    "        z_mid = data.shape[2] // 2\n",
    "\n",
    "        # Obtener slices 2D\n",
    "        orig_slice = data[:, :, z_mid]\n",
    "        left_slice = left_mask[:, :, z_mid]\n",
    "        right_slice = right_mask[:, :, z_mid]\n",
    "\n",
    "        # Crear imagen RGB\n",
    "        overlay = np.zeros(orig_slice.shape + (3,), dtype=np.uint8)\n",
    "        overlay[..., 0] = (left_slice > 0) * 255   # Red for left tibia\n",
    "        overlay[..., 1] = (right_slice > 0) * 255  # Green for right tibia\n",
    "\n",
    "        # Plot y guardar\n",
    "        plt.figure(figsize=(5, 5))\n",
    "        plt.imshow(orig_slice, cmap='gray')        # Or cmap='bone' \n",
    "        plt.imshow(overlay, alpha=0.5)\n",
    "        plt.axis('off')\n",
    "        plt.title(f\"{base} - corte Z medio\")\n",
    "        plt.tight_layout()\n",
    "\n",
    "        plt.savefig(os.path.join(output_folder, f\"preview_{base}.png\"), dpi=150)\n",
    "        plt.close()\n",
    "\n",
    "print(\"✅ finished.\")\n"
   ]
  }
 ],
 "metadata": {
  "kernelspec": {
   "display_name": "segmagic",
   "language": "python",
   "name": "python3"
  },
  "language_info": {
   "codemirror_mode": {
    "name": "ipython",
    "version": 3
   },
   "file_extension": ".py",
   "mimetype": "text/x-python",
   "name": "python",
   "nbconvert_exporter": "python",
   "pygments_lexer": "ipython3",
   "version": "3.12.3"
  }
 },
 "nbformat": 4,
 "nbformat_minor": 5
}
